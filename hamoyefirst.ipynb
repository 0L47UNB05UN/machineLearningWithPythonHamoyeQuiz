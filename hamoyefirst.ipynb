{
  "cells": [
    {
      "cell_type": "code",
      "source": [
        "import pandas as pd\n",
        "import numpy as np\n",
        "import matplotlib.pyplot as plt\n",
        "\n",
        "\n",
        "\n",
        "\n",
        "\n",
        "data = pd.read_csv('https://github.com/HamoyeHQ/HDSC-Introduction-to-Python-for-machine-learning/files/7768140/FoodBalanceSheets_E_Africa_NOFLAG.csv', encoding='latin-1')\n",
        "data.describe(include='all')"
      ],
      "metadata": {
        "colab": {
          "base_uri": "https://localhost:8080/",
          "height": 466
        },
        "id": "oy1i0-7T9auN",
        "outputId": "3714559e-87ab-49fd-e0a8-1107e4fc069c"
      },
      "execution_count": null,
      "outputs": [
        {
          "output_type": "execute_result",
          "data": {
            "text/plain": [
              "           Area Code   Area     Item Code                     Item  \\\n",
              "count   60943.000000  60943  60943.000000                    60943   \n",
              "unique           NaN     49           NaN                      119   \n",
              "top              NaN  Kenya           NaN  Milk - Excluding Butter   \n",
              "freq             NaN   1560           NaN                     1262   \n",
              "mean      134.265576    NaN   2687.176706                      NaN   \n",
              "std        72.605709    NaN    146.055739                      NaN   \n",
              "min         4.000000    NaN   2501.000000                      NaN   \n",
              "25%        74.000000    NaN   2562.000000                      NaN   \n",
              "50%       136.000000    NaN   2630.000000                      NaN   \n",
              "75%       195.000000    NaN   2775.000000                      NaN   \n",
              "max       276.000000    NaN   2961.000000                      NaN   \n",
              "\n",
              "        Element Code                   Element         Unit          Y2014  \\\n",
              "count   60943.000000                     60943        60943   59354.000000   \n",
              "unique           NaN                        18            5            NaN   \n",
              "top              NaN  Domestic supply quantity  1000 tonnes            NaN   \n",
              "freq             NaN                      5295        40933            NaN   \n",
              "mean     3814.856456                       NaN          NaN     134.196282   \n",
              "std      2212.007033                       NaN          NaN    1567.663696   \n",
              "min       511.000000                       NaN          NaN   -1796.000000   \n",
              "25%       684.000000                       NaN          NaN       0.000000   \n",
              "50%      5142.000000                       NaN          NaN       0.090000   \n",
              "75%      5511.000000                       NaN          NaN       8.340000   \n",
              "max      5911.000000                       NaN          NaN  176405.000000   \n",
              "\n",
              "                Y2015          Y2016          Y2017          Y2018  \n",
              "count    59395.000000   59408.000000   59437.000000   59507.000000  \n",
              "unique            NaN            NaN            NaN            NaN  \n",
              "top               NaN            NaN            NaN            NaN  \n",
              "freq              NaN            NaN            NaN            NaN  \n",
              "mean       135.235966     136.555222     140.917765     143.758381  \n",
              "std       1603.403984    1640.007194    1671.862359    1710.782658  \n",
              "min      -3161.000000   -3225.000000   -1582.000000   -3396.000000  \n",
              "25%          0.000000       0.000000       0.000000       0.000000  \n",
              "50%          0.080000       0.080000       0.100000       0.070000  \n",
              "75%          8.460000       8.430000       9.000000       9.000000  \n",
              "max     181137.000000  185960.000000  190873.000000  195875.000000  "
            ],
            "text/html": [
              "\n",
              "  <div id=\"df-9bec2449-0f48-4773-b1a2-f562533b2cbc\" class=\"colab-df-container\">\n",
              "    <div>\n",
              "<style scoped>\n",
              "    .dataframe tbody tr th:only-of-type {\n",
              "        vertical-align: middle;\n",
              "    }\n",
              "\n",
              "    .dataframe tbody tr th {\n",
              "        vertical-align: top;\n",
              "    }\n",
              "\n",
              "    .dataframe thead th {\n",
              "        text-align: right;\n",
              "    }\n",
              "</style>\n",
              "<table border=\"1\" class=\"dataframe\">\n",
              "  <thead>\n",
              "    <tr style=\"text-align: right;\">\n",
              "      <th></th>\n",
              "      <th>Area Code</th>\n",
              "      <th>Area</th>\n",
              "      <th>Item Code</th>\n",
              "      <th>Item</th>\n",
              "      <th>Element Code</th>\n",
              "      <th>Element</th>\n",
              "      <th>Unit</th>\n",
              "      <th>Y2014</th>\n",
              "      <th>Y2015</th>\n",
              "      <th>Y2016</th>\n",
              "      <th>Y2017</th>\n",
              "      <th>Y2018</th>\n",
              "    </tr>\n",
              "  </thead>\n",
              "  <tbody>\n",
              "    <tr>\n",
              "      <th>count</th>\n",
              "      <td>60943.000000</td>\n",
              "      <td>60943</td>\n",
              "      <td>60943.000000</td>\n",
              "      <td>60943</td>\n",
              "      <td>60943.000000</td>\n",
              "      <td>60943</td>\n",
              "      <td>60943</td>\n",
              "      <td>59354.000000</td>\n",
              "      <td>59395.000000</td>\n",
              "      <td>59408.000000</td>\n",
              "      <td>59437.000000</td>\n",
              "      <td>59507.000000</td>\n",
              "    </tr>\n",
              "    <tr>\n",
              "      <th>unique</th>\n",
              "      <td>NaN</td>\n",
              "      <td>49</td>\n",
              "      <td>NaN</td>\n",
              "      <td>119</td>\n",
              "      <td>NaN</td>\n",
              "      <td>18</td>\n",
              "      <td>5</td>\n",
              "      <td>NaN</td>\n",
              "      <td>NaN</td>\n",
              "      <td>NaN</td>\n",
              "      <td>NaN</td>\n",
              "      <td>NaN</td>\n",
              "    </tr>\n",
              "    <tr>\n",
              "      <th>top</th>\n",
              "      <td>NaN</td>\n",
              "      <td>Kenya</td>\n",
              "      <td>NaN</td>\n",
              "      <td>Milk - Excluding Butter</td>\n",
              "      <td>NaN</td>\n",
              "      <td>Domestic supply quantity</td>\n",
              "      <td>1000 tonnes</td>\n",
              "      <td>NaN</td>\n",
              "      <td>NaN</td>\n",
              "      <td>NaN</td>\n",
              "      <td>NaN</td>\n",
              "      <td>NaN</td>\n",
              "    </tr>\n",
              "    <tr>\n",
              "      <th>freq</th>\n",
              "      <td>NaN</td>\n",
              "      <td>1560</td>\n",
              "      <td>NaN</td>\n",
              "      <td>1262</td>\n",
              "      <td>NaN</td>\n",
              "      <td>5295</td>\n",
              "      <td>40933</td>\n",
              "      <td>NaN</td>\n",
              "      <td>NaN</td>\n",
              "      <td>NaN</td>\n",
              "      <td>NaN</td>\n",
              "      <td>NaN</td>\n",
              "    </tr>\n",
              "    <tr>\n",
              "      <th>mean</th>\n",
              "      <td>134.265576</td>\n",
              "      <td>NaN</td>\n",
              "      <td>2687.176706</td>\n",
              "      <td>NaN</td>\n",
              "      <td>3814.856456</td>\n",
              "      <td>NaN</td>\n",
              "      <td>NaN</td>\n",
              "      <td>134.196282</td>\n",
              "      <td>135.235966</td>\n",
              "      <td>136.555222</td>\n",
              "      <td>140.917765</td>\n",
              "      <td>143.758381</td>\n",
              "    </tr>\n",
              "    <tr>\n",
              "      <th>std</th>\n",
              "      <td>72.605709</td>\n",
              "      <td>NaN</td>\n",
              "      <td>146.055739</td>\n",
              "      <td>NaN</td>\n",
              "      <td>2212.007033</td>\n",
              "      <td>NaN</td>\n",
              "      <td>NaN</td>\n",
              "      <td>1567.663696</td>\n",
              "      <td>1603.403984</td>\n",
              "      <td>1640.007194</td>\n",
              "      <td>1671.862359</td>\n",
              "      <td>1710.782658</td>\n",
              "    </tr>\n",
              "    <tr>\n",
              "      <th>min</th>\n",
              "      <td>4.000000</td>\n",
              "      <td>NaN</td>\n",
              "      <td>2501.000000</td>\n",
              "      <td>NaN</td>\n",
              "      <td>511.000000</td>\n",
              "      <td>NaN</td>\n",
              "      <td>NaN</td>\n",
              "      <td>-1796.000000</td>\n",
              "      <td>-3161.000000</td>\n",
              "      <td>-3225.000000</td>\n",
              "      <td>-1582.000000</td>\n",
              "      <td>-3396.000000</td>\n",
              "    </tr>\n",
              "    <tr>\n",
              "      <th>25%</th>\n",
              "      <td>74.000000</td>\n",
              "      <td>NaN</td>\n",
              "      <td>2562.000000</td>\n",
              "      <td>NaN</td>\n",
              "      <td>684.000000</td>\n",
              "      <td>NaN</td>\n",
              "      <td>NaN</td>\n",
              "      <td>0.000000</td>\n",
              "      <td>0.000000</td>\n",
              "      <td>0.000000</td>\n",
              "      <td>0.000000</td>\n",
              "      <td>0.000000</td>\n",
              "    </tr>\n",
              "    <tr>\n",
              "      <th>50%</th>\n",
              "      <td>136.000000</td>\n",
              "      <td>NaN</td>\n",
              "      <td>2630.000000</td>\n",
              "      <td>NaN</td>\n",
              "      <td>5142.000000</td>\n",
              "      <td>NaN</td>\n",
              "      <td>NaN</td>\n",
              "      <td>0.090000</td>\n",
              "      <td>0.080000</td>\n",
              "      <td>0.080000</td>\n",
              "      <td>0.100000</td>\n",
              "      <td>0.070000</td>\n",
              "    </tr>\n",
              "    <tr>\n",
              "      <th>75%</th>\n",
              "      <td>195.000000</td>\n",
              "      <td>NaN</td>\n",
              "      <td>2775.000000</td>\n",
              "      <td>NaN</td>\n",
              "      <td>5511.000000</td>\n",
              "      <td>NaN</td>\n",
              "      <td>NaN</td>\n",
              "      <td>8.340000</td>\n",
              "      <td>8.460000</td>\n",
              "      <td>8.430000</td>\n",
              "      <td>9.000000</td>\n",
              "      <td>9.000000</td>\n",
              "    </tr>\n",
              "    <tr>\n",
              "      <th>max</th>\n",
              "      <td>276.000000</td>\n",
              "      <td>NaN</td>\n",
              "      <td>2961.000000</td>\n",
              "      <td>NaN</td>\n",
              "      <td>5911.000000</td>\n",
              "      <td>NaN</td>\n",
              "      <td>NaN</td>\n",
              "      <td>176405.000000</td>\n",
              "      <td>181137.000000</td>\n",
              "      <td>185960.000000</td>\n",
              "      <td>190873.000000</td>\n",
              "      <td>195875.000000</td>\n",
              "    </tr>\n",
              "  </tbody>\n",
              "</table>\n",
              "</div>\n",
              "    <div class=\"colab-df-buttons\">\n",
              "\n",
              "  <div class=\"colab-df-container\">\n",
              "    <button class=\"colab-df-convert\" onclick=\"convertToInteractive('df-9bec2449-0f48-4773-b1a2-f562533b2cbc')\"\n",
              "            title=\"Convert this dataframe to an interactive table.\"\n",
              "            style=\"display:none;\">\n",
              "\n",
              "  <svg xmlns=\"http://www.w3.org/2000/svg\" height=\"24px\" viewBox=\"0 -960 960 960\">\n",
              "    <path d=\"M120-120v-720h720v720H120Zm60-500h600v-160H180v160Zm220 220h160v-160H400v160Zm0 220h160v-160H400v160ZM180-400h160v-160H180v160Zm440 0h160v-160H620v160ZM180-180h160v-160H180v160Zm440 0h160v-160H620v160Z\"/>\n",
              "  </svg>\n",
              "    </button>\n",
              "\n",
              "  <style>\n",
              "    .colab-df-container {\n",
              "      display:flex;\n",
              "      gap: 12px;\n",
              "    }\n",
              "\n",
              "    .colab-df-convert {\n",
              "      background-color: #E8F0FE;\n",
              "      border: none;\n",
              "      border-radius: 50%;\n",
              "      cursor: pointer;\n",
              "      display: none;\n",
              "      fill: #1967D2;\n",
              "      height: 32px;\n",
              "      padding: 0 0 0 0;\n",
              "      width: 32px;\n",
              "    }\n",
              "\n",
              "    .colab-df-convert:hover {\n",
              "      background-color: #E2EBFA;\n",
              "      box-shadow: 0px 1px 2px rgba(60, 64, 67, 0.3), 0px 1px 3px 1px rgba(60, 64, 67, 0.15);\n",
              "      fill: #174EA6;\n",
              "    }\n",
              "\n",
              "    .colab-df-buttons div {\n",
              "      margin-bottom: 4px;\n",
              "    }\n",
              "\n",
              "    [theme=dark] .colab-df-convert {\n",
              "      background-color: #3B4455;\n",
              "      fill: #D2E3FC;\n",
              "    }\n",
              "\n",
              "    [theme=dark] .colab-df-convert:hover {\n",
              "      background-color: #434B5C;\n",
              "      box-shadow: 0px 1px 3px 1px rgba(0, 0, 0, 0.15);\n",
              "      filter: drop-shadow(0px 1px 2px rgba(0, 0, 0, 0.3));\n",
              "      fill: #FFFFFF;\n",
              "    }\n",
              "  </style>\n",
              "\n",
              "    <script>\n",
              "      const buttonEl =\n",
              "        document.querySelector('#df-9bec2449-0f48-4773-b1a2-f562533b2cbc button.colab-df-convert');\n",
              "      buttonEl.style.display =\n",
              "        google.colab.kernel.accessAllowed ? 'block' : 'none';\n",
              "\n",
              "      async function convertToInteractive(key) {\n",
              "        const element = document.querySelector('#df-9bec2449-0f48-4773-b1a2-f562533b2cbc');\n",
              "        const dataTable =\n",
              "          await google.colab.kernel.invokeFunction('convertToInteractive',\n",
              "                                                    [key], {});\n",
              "        if (!dataTable) return;\n",
              "\n",
              "        const docLinkHtml = 'Like what you see? Visit the ' +\n",
              "          '<a target=\"_blank\" href=https://colab.research.google.com/notebooks/data_table.ipynb>data table notebook</a>'\n",
              "          + ' to learn more about interactive tables.';\n",
              "        element.innerHTML = '';\n",
              "        dataTable['output_type'] = 'display_data';\n",
              "        await google.colab.output.renderOutput(dataTable, element);\n",
              "        const docLink = document.createElement('div');\n",
              "        docLink.innerHTML = docLinkHtml;\n",
              "        element.appendChild(docLink);\n",
              "      }\n",
              "    </script>\n",
              "  </div>\n",
              "\n",
              "\n",
              "<div id=\"df-78f6d391-8a10-46a5-a4ab-a7a4ab436e5d\">\n",
              "  <button class=\"colab-df-quickchart\" onclick=\"quickchart('df-78f6d391-8a10-46a5-a4ab-a7a4ab436e5d')\"\n",
              "            title=\"Suggest charts\"\n",
              "            style=\"display:none;\">\n",
              "\n",
              "<svg xmlns=\"http://www.w3.org/2000/svg\" height=\"24px\"viewBox=\"0 0 24 24\"\n",
              "     width=\"24px\">\n",
              "    <g>\n",
              "        <path d=\"M19 3H5c-1.1 0-2 .9-2 2v14c0 1.1.9 2 2 2h14c1.1 0 2-.9 2-2V5c0-1.1-.9-2-2-2zM9 17H7v-7h2v7zm4 0h-2V7h2v10zm4 0h-2v-4h2v4z\"/>\n",
              "    </g>\n",
              "</svg>\n",
              "  </button>\n",
              "\n",
              "<style>\n",
              "  .colab-df-quickchart {\n",
              "      --bg-color: #E8F0FE;\n",
              "      --fill-color: #1967D2;\n",
              "      --hover-bg-color: #E2EBFA;\n",
              "      --hover-fill-color: #174EA6;\n",
              "      --disabled-fill-color: #AAA;\n",
              "      --disabled-bg-color: #DDD;\n",
              "  }\n",
              "\n",
              "  [theme=dark] .colab-df-quickchart {\n",
              "      --bg-color: #3B4455;\n",
              "      --fill-color: #D2E3FC;\n",
              "      --hover-bg-color: #434B5C;\n",
              "      --hover-fill-color: #FFFFFF;\n",
              "      --disabled-bg-color: #3B4455;\n",
              "      --disabled-fill-color: #666;\n",
              "  }\n",
              "\n",
              "  .colab-df-quickchart {\n",
              "    background-color: var(--bg-color);\n",
              "    border: none;\n",
              "    border-radius: 50%;\n",
              "    cursor: pointer;\n",
              "    display: none;\n",
              "    fill: var(--fill-color);\n",
              "    height: 32px;\n",
              "    padding: 0;\n",
              "    width: 32px;\n",
              "  }\n",
              "\n",
              "  .colab-df-quickchart:hover {\n",
              "    background-color: var(--hover-bg-color);\n",
              "    box-shadow: 0 1px 2px rgba(60, 64, 67, 0.3), 0 1px 3px 1px rgba(60, 64, 67, 0.15);\n",
              "    fill: var(--button-hover-fill-color);\n",
              "  }\n",
              "\n",
              "  .colab-df-quickchart-complete:disabled,\n",
              "  .colab-df-quickchart-complete:disabled:hover {\n",
              "    background-color: var(--disabled-bg-color);\n",
              "    fill: var(--disabled-fill-color);\n",
              "    box-shadow: none;\n",
              "  }\n",
              "\n",
              "  .colab-df-spinner {\n",
              "    border: 2px solid var(--fill-color);\n",
              "    border-color: transparent;\n",
              "    border-bottom-color: var(--fill-color);\n",
              "    animation:\n",
              "      spin 1s steps(1) infinite;\n",
              "  }\n",
              "\n",
              "  @keyframes spin {\n",
              "    0% {\n",
              "      border-color: transparent;\n",
              "      border-bottom-color: var(--fill-color);\n",
              "      border-left-color: var(--fill-color);\n",
              "    }\n",
              "    20% {\n",
              "      border-color: transparent;\n",
              "      border-left-color: var(--fill-color);\n",
              "      border-top-color: var(--fill-color);\n",
              "    }\n",
              "    30% {\n",
              "      border-color: transparent;\n",
              "      border-left-color: var(--fill-color);\n",
              "      border-top-color: var(--fill-color);\n",
              "      border-right-color: var(--fill-color);\n",
              "    }\n",
              "    40% {\n",
              "      border-color: transparent;\n",
              "      border-right-color: var(--fill-color);\n",
              "      border-top-color: var(--fill-color);\n",
              "    }\n",
              "    60% {\n",
              "      border-color: transparent;\n",
              "      border-right-color: var(--fill-color);\n",
              "    }\n",
              "    80% {\n",
              "      border-color: transparent;\n",
              "      border-right-color: var(--fill-color);\n",
              "      border-bottom-color: var(--fill-color);\n",
              "    }\n",
              "    90% {\n",
              "      border-color: transparent;\n",
              "      border-bottom-color: var(--fill-color);\n",
              "    }\n",
              "  }\n",
              "</style>\n",
              "\n",
              "  <script>\n",
              "    async function quickchart(key) {\n",
              "      const quickchartButtonEl =\n",
              "        document.querySelector('#' + key + ' button');\n",
              "      quickchartButtonEl.disabled = true;  // To prevent multiple clicks.\n",
              "      quickchartButtonEl.classList.add('colab-df-spinner');\n",
              "      try {\n",
              "        const charts = await google.colab.kernel.invokeFunction(\n",
              "            'suggestCharts', [key], {});\n",
              "      } catch (error) {\n",
              "        console.error('Error during call to suggestCharts:', error);\n",
              "      }\n",
              "      quickchartButtonEl.classList.remove('colab-df-spinner');\n",
              "      quickchartButtonEl.classList.add('colab-df-quickchart-complete');\n",
              "    }\n",
              "    (() => {\n",
              "      let quickchartButtonEl =\n",
              "        document.querySelector('#df-78f6d391-8a10-46a5-a4ab-a7a4ab436e5d button');\n",
              "      quickchartButtonEl.style.display =\n",
              "        google.colab.kernel.accessAllowed ? 'block' : 'none';\n",
              "    })();\n",
              "  </script>\n",
              "</div>\n",
              "\n",
              "    </div>\n",
              "  </div>\n"
            ],
            "application/vnd.google.colaboratory.intrinsic+json": {
              "type": "dataframe",
              "summary": "{\n  \"name\": \"data\",\n  \"rows\": 11,\n  \"fields\": [\n    {\n      \"column\": \"Area Code\",\n      \"properties\": {\n        \"dtype\": \"number\",\n        \"std\": 21501.71695298649,\n        \"min\": 4.0,\n        \"max\": 60943.0,\n        \"num_unique_values\": 8,\n        \"samples\": [\n          134.26557603006088,\n          136.0,\n          60943.0\n        ],\n        \"semantic_type\": \"\",\n        \"description\": \"\"\n      }\n    },\n    {\n      \"column\": \"Area\",\n      \"properties\": {\n        \"dtype\": \"category\",\n        \"num_unique_values\": 4,\n        \"samples\": [\n          49,\n          \"1560\",\n          \"60943\"\n        ],\n        \"semantic_type\": \"\",\n        \"description\": \"\"\n      }\n    },\n    {\n      \"column\": \"Item Code\",\n      \"properties\": {\n        \"dtype\": \"number\",\n        \"std\": 20744.756312703536,\n        \"min\": 146.055739092287,\n        \"max\": 60943.0,\n        \"num_unique_values\": 8,\n        \"samples\": [\n          2687.1767061024234,\n          2630.0,\n          60943.0\n        ],\n        \"semantic_type\": \"\",\n        \"description\": \"\"\n      }\n    },\n    {\n      \"column\": \"Item\",\n      \"properties\": {\n        \"dtype\": \"category\",\n        \"num_unique_values\": 4,\n        \"samples\": [\n          119,\n          \"1262\",\n          \"60943\"\n        ],\n        \"semantic_type\": \"\",\n        \"description\": \"\"\n      }\n    },\n    {\n      \"column\": \"Element Code\",\n      \"properties\": {\n        \"dtype\": \"number\",\n        \"std\": 20454.14033662442,\n        \"min\": 511.0,\n        \"max\": 60943.0,\n        \"num_unique_values\": 8,\n        \"samples\": [\n          3814.8564560326863,\n          5142.0,\n          60943.0\n        ],\n        \"semantic_type\": \"\",\n        \"description\": \"\"\n      }\n    },\n    {\n      \"column\": \"Element\",\n      \"properties\": {\n        \"dtype\": \"category\",\n        \"num_unique_values\": 4,\n        \"samples\": [\n          18,\n          \"5295\",\n          \"60943\"\n        ],\n        \"semantic_type\": \"\",\n        \"description\": \"\"\n      }\n    },\n    {\n      \"column\": \"Unit\",\n      \"properties\": {\n        \"dtype\": \"category\",\n        \"num_unique_values\": 4,\n        \"samples\": [\n          5,\n          \"40933\",\n          \"60943\"\n        ],\n        \"semantic_type\": \"\",\n        \"description\": \"\"\n      }\n    },\n    {\n      \"column\": \"Y2014\",\n      \"properties\": {\n        \"dtype\": \"number\",\n        \"std\": 62911.031457740275,\n        \"min\": -1796.0,\n        \"max\": 176405.0,\n        \"num_unique_values\": 8,\n        \"samples\": [\n          134.1962821376824,\n          0.09,\n          59354.0\n        ],\n        \"semantic_type\": \"\",\n        \"description\": \"\"\n      }\n    },\n    {\n      \"column\": \"Y2015\",\n      \"properties\": {\n        \"dtype\": \"number\",\n        \"std\": 64590.768891348445,\n        \"min\": -3161.0,\n        \"max\": 181137.0,\n        \"num_unique_values\": 8,\n        \"samples\": [\n          135.23596649549626,\n          0.08,\n          59395.0\n        ],\n        \"semantic_type\": \"\",\n        \"description\": \"\"\n      }\n    },\n    {\n      \"column\": \"Y2016\",\n      \"properties\": {\n        \"dtype\": \"number\",\n        \"std\": 66209.54610378636,\n        \"min\": -3225.0,\n        \"max\": 185960.0,\n        \"num_unique_values\": 8,\n        \"samples\": [\n          136.5552223606248,\n          0.08,\n          59408.0\n        ],\n        \"semantic_type\": \"\",\n        \"description\": \"\"\n      }\n    },\n    {\n      \"column\": \"Y2017\",\n      \"properties\": {\n        \"dtype\": \"number\",\n        \"std\": 67742.86634115636,\n        \"min\": -1582.0,\n        \"max\": 190873.0,\n        \"num_unique_values\": 8,\n        \"samples\": [\n          140.9177648602722,\n          0.1,\n          59437.0\n        ],\n        \"semantic_type\": \"\",\n        \"description\": \"\"\n      }\n    },\n    {\n      \"column\": \"Y2018\",\n      \"properties\": {\n        \"dtype\": \"number\",\n        \"std\": 69557.40269396779,\n        \"min\": -3396.0,\n        \"max\": 195875.0,\n        \"num_unique_values\": 8,\n        \"samples\": [\n          143.7583806947082,\n          0.07,\n          59507.0\n        ],\n        \"semantic_type\": \"\",\n        \"description\": \"\"\n      }\n    }\n  ]\n}"
            }
          },
          "metadata": {},
          "execution_count": 71
        }
      ]
    },
    {
      "cell_type": "code",
      "source": [
        "from google.colab import drive\n",
        "drive.mount('/content/drive')"
      ],
      "metadata": {
        "colab": {
          "base_uri": "https://localhost:8080/"
        },
        "id": "Iu9fyQyBi3SL",
        "outputId": "989d0dd5-65cd-4630-98d8-9c273fdc2794"
      },
      "execution_count": null,
      "outputs": [
        {
          "output_type": "stream",
          "name": "stdout",
          "text": [
            "Mounted at /content/drive\n"
          ]
        }
      ]
    },
    {
      "cell_type": "code",
      "source": [
        "area = data['Area']\n",
        "area"
      ],
      "metadata": {
        "colab": {
          "base_uri": "https://localhost:8080/"
        },
        "id": "K0aK7Vi_SYX0",
        "outputId": "6bc8ae71-cea1-4b31-dac9-322774e7e2e7"
      },
      "execution_count": null,
      "outputs": [
        {
          "output_type": "execute_result",
          "data": {
            "text/plain": [
              "0         Algeria\n",
              "1         Algeria\n",
              "2         Algeria\n",
              "3         Algeria\n",
              "4         Algeria\n",
              "           ...   \n",
              "60938    Zimbabwe\n",
              "60939    Zimbabwe\n",
              "60940    Zimbabwe\n",
              "60941    Zimbabwe\n",
              "60942    Zimbabwe\n",
              "Name: Area, Length: 60943, dtype: object"
            ]
          },
          "metadata": {},
          "execution_count": 173
        }
      ]
    },
    {
      "cell_type": "code",
      "source": [
        "data.groupby('Element')['Y2017'].sum()['Processing']"
      ],
      "metadata": {
        "colab": {
          "base_uri": "https://localhost:8080/"
        },
        "id": "W_2zVyeK-q9H",
        "outputId": "32d4c2b2-b5a2-447d-c59c-3daa85ec8f4f"
      },
      "execution_count": null,
      "outputs": [
        {
          "output_type": "execute_result",
          "data": {
            "text/plain": [
              "292836.0"
            ]
          },
          "metadata": {},
          "execution_count": 122
        }
      ]
    },
    {
      "cell_type": "code",
      "source": [
        "num = data.isnull()['Y2014'].sum()\n",
        "full = data.shape[0]\n",
        "percent = num * 100 / full\n",
        "print(num, percent)"
      ],
      "metadata": {
        "colab": {
          "base_uri": "https://localhost:8080/"
        },
        "id": "emqCtrySP9Jb",
        "outputId": "e6188609-1a12-48ee-e43d-0919a99d34b8"
      },
      "execution_count": null,
      "outputs": [
        {
          "output_type": "stream",
          "name": "stdout",
          "text": [
            "1589 2.6073544131401474 60943\n"
          ]
        }
      ]
    },
    {
      "cell_type": "code",
      "source": [
        "data.groupby('Area')[\"Item\"].sum()"
      ],
      "metadata": {
        "colab": {
          "base_uri": "https://localhost:8080/"
        },
        "id": "Jq8jq1eXTy1H",
        "outputId": "8c43b465-66b4-42b8-e384-68cb5913686c"
      },
      "execution_count": null,
      "outputs": [
        {
          "output_type": "execute_result",
          "data": {
            "text/plain": [
              "Area\n",
              "Algeria                        PopulationPopulationGrand TotalGrand TotalGran...\n",
              "Angola                         PopulationPopulationGrand TotalGrand TotalGran...\n",
              "Benin                          PopulationPopulationGrand TotalGrand TotalGran...\n",
              "Botswana                       PopulationPopulationGrand TotalGrand TotalGran...\n",
              "Burkina Faso                   PopulationPopulationGrand TotalGrand TotalGran...\n",
              "Cabo Verde                     PopulationPopulationGrand TotalGrand TotalGran...\n",
              "Cameroon                       PopulationPopulationGrand TotalGrand TotalGran...\n",
              "Central African Republic       PopulationPopulationGrand TotalGrand TotalGran...\n",
              "Chad                           PopulationPopulationGrand TotalGrand TotalGran...\n",
              "Comoros                        Fish, Body OilFish, Body OilFish, Body OilFish...\n",
              "Congo                          PopulationPopulationGrand TotalGrand TotalGran...\n",
              "Côte d'Ivoire                  PopulationPopulationGrand TotalGrand TotalGran...\n",
              "Djibouti                       PopulationPopulationGrand TotalGrand TotalGran...\n",
              "Egypt                          PopulationPopulationGrand TotalGrand TotalGran...\n",
              "Eswatini                       PopulationPopulationGrand TotalGrand TotalGran...\n",
              "Ethiopia                       PopulationPopulationGrand TotalGrand TotalGran...\n",
              "Ethiopia PDR                   Fish, Liver OilFish, Liver OilFish, Liver OilF...\n",
              "Gabon                          PopulationPopulationGrand TotalGrand TotalGran...\n",
              "Gambia                         PopulationPopulationGrand TotalGrand TotalGran...\n",
              "Ghana                          PopulationPopulationGrand TotalGrand TotalGran...\n",
              "Guinea                         PopulationPopulationGrand TotalGrand TotalGran...\n",
              "Guinea-Bissau                  PopulationPopulationGrand TotalGrand TotalGran...\n",
              "Kenya                          PopulationPopulationGrand TotalGrand TotalGran...\n",
              "Lesotho                        PopulationPopulationGrand TotalGrand TotalGran...\n",
              "Liberia                        PopulationPopulationGrand TotalGrand TotalGran...\n",
              "Madagascar                     PopulationPopulationGrand TotalGrand TotalGran...\n",
              "Malawi                         PopulationPopulationGrand TotalGrand TotalGran...\n",
              "Mali                           PopulationPopulationGrand TotalGrand TotalGran...\n",
              "Mauritania                     PopulationPopulationGrand TotalGrand TotalGran...\n",
              "Mauritius                      PopulationPopulationGrand TotalGrand TotalGran...\n",
              "Morocco                        PopulationPopulationGrand TotalGrand TotalGran...\n",
              "Mozambique                     PopulationPopulationGrand TotalGrand TotalGran...\n",
              "Namibia                        PopulationPopulationGrand TotalGrand TotalGran...\n",
              "Niger                          PopulationPopulationGrand TotalGrand TotalGran...\n",
              "Nigeria                        PopulationPopulationGrand TotalGrand TotalGran...\n",
              "Rwanda                         PopulationPopulationGrand TotalGrand TotalGran...\n",
              "Sao Tome and Principe          PopulationPopulationGrand TotalGrand TotalGran...\n",
              "Senegal                        PopulationPopulationGrand TotalGrand TotalGran...\n",
              "Seychelles                     Fish, Body OilFish, Body OilFish, Body OilFish...\n",
              "Sierra Leone                   PopulationPopulationGrand TotalGrand TotalGran...\n",
              "South Africa                   PopulationPopulationGrand TotalGrand TotalGran...\n",
              "Sudan                          PopulationPopulationGrand TotalGrand TotalGran...\n",
              "Sudan (former)                 Fish, Body OilFish, Body OilFish, Body OilFish...\n",
              "Togo                           PopulationPopulationGrand TotalGrand TotalGran...\n",
              "Tunisia                        PopulationPopulationGrand TotalGrand TotalGran...\n",
              "Uganda                         PopulationPopulationGrand TotalGrand TotalGran...\n",
              "United Republic of Tanzania    PopulationPopulationGrand TotalGrand TotalGran...\n",
              "Zambia                         PopulationPopulationGrand TotalGrand TotalGran...\n",
              "Zimbabwe                       PopulationPopulationGrand TotalGrand TotalGran...\n",
              "Name: Item, dtype: object"
            ]
          },
          "metadata": {},
          "execution_count": 157
        }
      ]
    },
    {
      "cell_type": "code",
      "source": [
        "data.shape"
      ],
      "metadata": {
        "colab": {
          "base_uri": "https://localhost:8080/"
        },
        "id": "7heC6T-n_-dd",
        "outputId": "cacb54a3-9b28-476d-f656-18f6683b621b"
      },
      "execution_count": null,
      "outputs": [
        {
          "output_type": "execute_result",
          "data": {
            "text/plain": [
              "60943"
            ]
          },
          "metadata": {},
          "execution_count": 12
        }
      ]
    },
    {
      "cell_type": "code",
      "source": [
        "data.groupby('Element')['Y2015'].sum()"
      ],
      "metadata": {
        "colab": {
          "base_uri": "https://localhost:8080/"
        },
        "id": "yeHNdC4TA-mH",
        "outputId": "df9f3409-2339-4b45-a63d-1634657d5067"
      },
      "execution_count": null,
      "outputs": [
        {
          "output_type": "execute_result",
          "data": {
            "text/plain": [
              "Element\n",
              "Domestic supply quantity                  2021493.55\n",
              "Export Quantity                            157614.47\n",
              "Fat supply quantity (g/capita/day)          10235.74\n",
              "Feed                                       225050.22\n",
              "Food                                      1232361.10\n",
              "Food supply (kcal/capita/day)              453383.00\n",
              "Food supply quantity (kg/capita/yr)         49345.13\n",
              "Import Quantity                            267018.46\n",
              "Losses                                     155439.00\n",
              "Other uses (non-food)                       66254.41\n",
              "Processing                                 287929.00\n",
              "Production                                1947019.39\n",
              "Protein supply quantity (g/capita/day)      11833.95\n",
              "Residuals                                   30045.00\n",
              "Seed                                        23976.82\n",
              "Stock Variation                             34910.99\n",
              "Total Population - Both sexes             1058081.00\n",
              "Tourist consumption                           349.00\n",
              "Name: Y2015, dtype: float64"
            ]
          },
          "metadata": {},
          "execution_count": 21
        }
      ]
    },
    {
      "cell_type": "code",
      "source": [
        "data.groupby('Item')['Y2015'].sum()[\"Wine\"]\n"
      ],
      "metadata": {
        "colab": {
          "base_uri": "https://localhost:8080/"
        },
        "id": "UEiP4s9iCcBY",
        "outputId": "f45f3cf0-9313-4ff9-e6e6-c74198a9a1bf"
      },
      "execution_count": null,
      "outputs": [
        {
          "output_type": "execute_result",
          "data": {
            "text/plain": [
              "4251.81"
            ]
          },
          "metadata": {},
          "execution_count": 185
        }
      ]
    },
    {
      "cell_type": "code",
      "source": [
        "data.groupby('Item')['Y2018'].sum()[\"Wine\"]"
      ],
      "metadata": {
        "colab": {
          "base_uri": "https://localhost:8080/"
        },
        "id": "s5UeVk-8fMP0",
        "outputId": "187f2b5d-4fe5-4a08-c9c6-a40145be6298"
      },
      "execution_count": null,
      "outputs": [
        {
          "output_type": "execute_result",
          "data": {
            "text/plain": [
              "4039.32"
            ]
          },
          "metadata": {},
          "execution_count": 186
        }
      ]
    },
    {
      "cell_type": "code",
      "source": [
        "#Select columns ‘Y2017’ and ‘Area’,\n",
        "#Perform a groupby operation on ‘Area’.\n",
        "#Which of these Areas had the 7th lowest sum in 2017?\n",
        "\n",
        "data.groupby('Area')['Y2017'].sum()"
      ],
      "metadata": {
        "colab": {
          "base_uri": "https://localhost:8080/"
        },
        "id": "S2KkVKFNDKq2",
        "outputId": "83bf7f22-454c-4867-e324-21b7b4e2f8db"
      },
      "execution_count": null,
      "outputs": [
        {
          "output_type": "execute_result",
          "data": {
            "text/plain": [
              "Area\n",
              "Algeria                         325644.27\n",
              "Angola                          229159.57\n",
              "Benin                           124771.22\n",
              "Botswana                         22101.30\n",
              "Burkina Faso                    101855.07\n",
              "Cabo Verde                       14650.74\n",
              "Cameroon                        232030.43\n",
              "Central African Republic         29937.00\n",
              "Chad                             71594.68\n",
              "Comoros                             59.84\n",
              "Congo                            41181.68\n",
              "Côte d'Ivoire                   224599.01\n",
              "Djibouti                         22729.91\n",
              "Egypt                           866379.92\n",
              "Eswatini                         54343.33\n",
              "Ethiopia                        448683.76\n",
              "Ethiopia PDR                         0.00\n",
              "Gabon                            27979.64\n",
              "Gambia                           23154.18\n",
              "Ghana                           337599.06\n",
              "Guinea                           98138.87\n",
              "Guinea-Bissau                    19102.77\n",
              "Kenya                           264660.66\n",
              "Lesotho                          21267.96\n",
              "Liberia                          29342.20\n",
              "Madagascar                      131197.73\n",
              "Malawi                          181098.71\n",
              "Mali                            149928.33\n",
              "Mauritania                      156665.46\n",
              "Mauritius                        51114.83\n",
              "Morocco                         388495.36\n",
              "Mozambique                      161407.98\n",
              "Namibia                          29874.89\n",
              "Niger                           126707.58\n",
              "Nigeria                        1483268.23\n",
              "Rwanda                           73663.69\n",
              "Sao Tome and Principe            12662.63\n",
              "Senegal                          95681.15\n",
              "Seychelles                         442.34\n",
              "Sierra Leone                     55311.33\n",
              "South Africa                    517590.54\n",
              "Sudan                           239931.92\n",
              "Sudan (former)                       0.00\n",
              "Togo                             49841.88\n",
              "Tunisia                         124167.20\n",
              "Uganda                          213950.38\n",
              "United Republic of Tanzania     322616.85\n",
              "Zambia                          103223.77\n",
              "Zimbabwe                         75919.34\n",
              "Name: Y2017, dtype: float64"
            ]
          },
          "metadata": {},
          "execution_count": 197
        }
      ]
    },
    {
      "cell_type": "code",
      "source": [
        "data.groupby('Element')['Y2015'].sum()\n"
      ],
      "metadata": {
        "colab": {
          "base_uri": "https://localhost:8080/"
        },
        "id": "JKp8tHmnIOUc",
        "outputId": "3e3af42b-d442-4d22-9696-6b620b8cf7c8"
      },
      "execution_count": null,
      "outputs": [
        {
          "output_type": "execute_result",
          "data": {
            "text/plain": [
              "Element\n",
              "Domestic supply quantity                  2021493.55\n",
              "Export Quantity                            157614.47\n",
              "Fat supply quantity (g/capita/day)          10235.74\n",
              "Feed                                       225050.22\n",
              "Food                                      1232361.10\n",
              "Food supply (kcal/capita/day)              453383.00\n",
              "Food supply quantity (kg/capita/yr)         49345.13\n",
              "Import Quantity                            267018.46\n",
              "Losses                                     155439.00\n",
              "Other uses (non-food)                       66254.41\n",
              "Processing                                 287929.00\n",
              "Production                                1947019.39\n",
              "Protein supply quantity (g/capita/day)      11833.95\n",
              "Residuals                                   30045.00\n",
              "Seed                                        23976.82\n",
              "Stock Variation                             34910.99\n",
              "Total Population - Both sexes             1058081.00\n",
              "Tourist consumption                           349.00\n",
              "Name: Y2015, dtype: float64"
            ]
          },
          "metadata": {},
          "execution_count": 53
        }
      ]
    }
  ],
  "metadata": {
    "colab": {
      "provenance": []
    },
    "kernelspec": {
      "display_name": "Python 3",
      "name": "python3"
    }
  },
  "nbformat": 4,
  "nbformat_minor": 0
}